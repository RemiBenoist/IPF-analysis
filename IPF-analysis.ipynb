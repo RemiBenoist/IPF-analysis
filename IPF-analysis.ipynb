{
 "cells": [
  {
   "cell_type": "code",
   "execution_count": 326,
   "metadata": {},
   "outputs": [
    {
     "name": "stderr",
     "output_type": "stream",
     "text": [
      "c:\\Users\\rbenoist\\Anaconda3\\lib\\site-packages\\IPython\\core\\interactiveshell.py:3437: DtypeWarning: Columns (33,38) have mixed types.Specify dtype option on import or set low_memory=False.\n",
      "  exec(code_obj, self.user_global_ns, self.user_ns)\n"
     ]
    }
   ],
   "source": [
    "# import libraries\n",
    "import pandas as pd\n",
    "import matplotlib.pyplot as plt\n",
    "import numpy as np\n",
    "\n",
    "# read and store my database from openipf .csv\n",
    "df = pd.read_csv(r'C:\\Users\\rbenoist\\Desktop\\Python-main\\Code\\Analyse IPF python\\IPF\\IPF-analysis\\openipf-2022-11-26-25c7d08e.csv')"
   ]
  },
  {
   "cell_type": "code",
   "execution_count": 327,
   "metadata": {},
   "outputs": [
    {
     "name": "stdout",
     "output_type": "stream",
     "text": [
      "<class 'pandas.core.frame.DataFrame'>\n",
      "RangeIndex: 1131003 entries, 0 to 1131002\n",
      "Data columns (total 41 columns):\n",
      " #   Column            Non-Null Count    Dtype  \n",
      "---  ------            --------------    -----  \n",
      " 0   Name              1131003 non-null  object \n",
      " 1   Sex               1131003 non-null  object \n",
      " 2   Event             1131003 non-null  object \n",
      " 3   Equipment         1131003 non-null  object \n",
      " 4   Age               817015 non-null   float64\n",
      " 5   AgeClass          855285 non-null   object \n",
      " 6   BirthYearClass    867737 non-null   object \n",
      " 7   Division          1130058 non-null  object \n",
      " 8   BodyweightKg      1117700 non-null  float64\n",
      " 9   WeightClassKg     1119513 non-null  object \n",
      " 10  Squat1Kg          421363 non-null   float64\n",
      " 11  Squat2Kg          416966 non-null   float64\n",
      " 12  Squat3Kg          406089 non-null   float64\n",
      " 13  Squat4Kg          326 non-null      float64\n",
      " 14  Best3SquatKg      809273 non-null   float64\n",
      " 15  Bench1Kg          608959 non-null   float64\n",
      " 16  Bench2Kg          603165 non-null   float64\n",
      " 17  Bench3Kg          587280 non-null   float64\n",
      " 18  Bench4Kg          1252 non-null     float64\n",
      " 19  Best3BenchKg      1059120 non-null  float64\n",
      " 20  Deadlift1Kg       429627 non-null   float64\n",
      " 21  Deadlift2Kg       422774 non-null   float64\n",
      " 22  Deadlift3Kg       407192 non-null   float64\n",
      " 23  Deadlift4Kg       473 non-null      float64\n",
      " 24  Best3DeadliftKg   819785 non-null   float64\n",
      " 25  TotalKg           1066154 non-null  float64\n",
      " 26  Place             1131003 non-null  object \n",
      " 27  Dots              1054057 non-null  float64\n",
      " 28  Wilks             1054057 non-null  float64\n",
      " 29  Glossbrenner      1054057 non-null  float64\n",
      " 30  Goodlift          1027114 non-null  float64\n",
      " 31  Tested            998572 non-null   object \n",
      " 32  Country           661654 non-null   object \n",
      " 33  State             207166 non-null   object \n",
      " 34  Federation        1131003 non-null  object \n",
      " 35  ParentFederation  1131003 non-null  object \n",
      " 36  Date              1131003 non-null  object \n",
      " 37  MeetCountry       1131003 non-null  object \n",
      " 38  MeetState         661950 non-null   object \n",
      " 39  MeetTown          943040 non-null   object \n",
      " 40  MeetName          1131003 non-null  object \n",
      "dtypes: float64(22), object(19)\n",
      "memory usage: 353.8+ MB\n"
     ]
    }
   ],
   "source": [
    "# get the dataframe info\n",
    "df.info()"
   ]
  },
  {
   "cell_type": "code",
   "execution_count": 328,
   "metadata": {},
   "outputs": [
    {
     "data": {
      "text/html": [
       "<div>\n",
       "<style scoped>\n",
       "    .dataframe tbody tr th:only-of-type {\n",
       "        vertical-align: middle;\n",
       "    }\n",
       "\n",
       "    .dataframe tbody tr th {\n",
       "        vertical-align: top;\n",
       "    }\n",
       "\n",
       "    .dataframe thead th {\n",
       "        text-align: right;\n",
       "    }\n",
       "</style>\n",
       "<table border=\"1\" class=\"dataframe\">\n",
       "  <thead>\n",
       "    <tr style=\"text-align: right;\">\n",
       "      <th></th>\n",
       "      <th>Name</th>\n",
       "      <th>Sex</th>\n",
       "      <th>Event</th>\n",
       "      <th>Equipment</th>\n",
       "      <th>Age</th>\n",
       "      <th>AgeClass</th>\n",
       "      <th>BirthYearClass</th>\n",
       "      <th>Division</th>\n",
       "      <th>BodyweightKg</th>\n",
       "      <th>WeightClassKg</th>\n",
       "      <th>...</th>\n",
       "      <th>Tested</th>\n",
       "      <th>Country</th>\n",
       "      <th>State</th>\n",
       "      <th>Federation</th>\n",
       "      <th>ParentFederation</th>\n",
       "      <th>Date</th>\n",
       "      <th>MeetCountry</th>\n",
       "      <th>MeetState</th>\n",
       "      <th>MeetTown</th>\n",
       "      <th>MeetName</th>\n",
       "    </tr>\n",
       "  </thead>\n",
       "  <tbody>\n",
       "    <tr>\n",
       "      <th>0</th>\n",
       "      <td>Karen Thomson</td>\n",
       "      <td>F</td>\n",
       "      <td>SBD</td>\n",
       "      <td>Single-ply</td>\n",
       "      <td>39.5</td>\n",
       "      <td>35-39</td>\n",
       "      <td>40-49</td>\n",
       "      <td>Masters 1</td>\n",
       "      <td>51.90</td>\n",
       "      <td>52</td>\n",
       "      <td>...</td>\n",
       "      <td>Yes</td>\n",
       "      <td>New Zealand</td>\n",
       "      <td>NaN</td>\n",
       "      <td>OceaniaPF</td>\n",
       "      <td>IPF</td>\n",
       "      <td>2002-12-06</td>\n",
       "      <td>New Zealand</td>\n",
       "      <td>BOP</td>\n",
       "      <td>Tauranga</td>\n",
       "      <td>Oceania Championships</td>\n",
       "    </tr>\n",
       "    <tr>\n",
       "      <th>1</th>\n",
       "      <td>Deborah Groves</td>\n",
       "      <td>F</td>\n",
       "      <td>SBD</td>\n",
       "      <td>Single-ply</td>\n",
       "      <td>30.5</td>\n",
       "      <td>24-34</td>\n",
       "      <td>24-39</td>\n",
       "      <td>Open</td>\n",
       "      <td>50.64</td>\n",
       "      <td>52</td>\n",
       "      <td>...</td>\n",
       "      <td>Yes</td>\n",
       "      <td>Australia</td>\n",
       "      <td>NaN</td>\n",
       "      <td>OceaniaPF</td>\n",
       "      <td>IPF</td>\n",
       "      <td>2002-12-06</td>\n",
       "      <td>New Zealand</td>\n",
       "      <td>BOP</td>\n",
       "      <td>Tauranga</td>\n",
       "      <td>Oceania Championships</td>\n",
       "    </tr>\n",
       "    <tr>\n",
       "      <th>2</th>\n",
       "      <td>Renee Orbon</td>\n",
       "      <td>F</td>\n",
       "      <td>SBD</td>\n",
       "      <td>Single-ply</td>\n",
       "      <td>31.5</td>\n",
       "      <td>24-34</td>\n",
       "      <td>24-39</td>\n",
       "      <td>Open</td>\n",
       "      <td>55.76</td>\n",
       "      <td>56</td>\n",
       "      <td>...</td>\n",
       "      <td>Yes</td>\n",
       "      <td>New Zealand</td>\n",
       "      <td>NaN</td>\n",
       "      <td>OceaniaPF</td>\n",
       "      <td>IPF</td>\n",
       "      <td>2002-12-06</td>\n",
       "      <td>New Zealand</td>\n",
       "      <td>BOP</td>\n",
       "      <td>Tauranga</td>\n",
       "      <td>Oceania Championships</td>\n",
       "    </tr>\n",
       "    <tr>\n",
       "      <th>3</th>\n",
       "      <td>Rikki Flanders</td>\n",
       "      <td>F</td>\n",
       "      <td>SBD</td>\n",
       "      <td>Single-ply</td>\n",
       "      <td>31.5</td>\n",
       "      <td>24-34</td>\n",
       "      <td>24-39</td>\n",
       "      <td>Open</td>\n",
       "      <td>56.42</td>\n",
       "      <td>60</td>\n",
       "      <td>...</td>\n",
       "      <td>Yes</td>\n",
       "      <td>Australia</td>\n",
       "      <td>NaN</td>\n",
       "      <td>OceaniaPF</td>\n",
       "      <td>IPF</td>\n",
       "      <td>2002-12-06</td>\n",
       "      <td>New Zealand</td>\n",
       "      <td>BOP</td>\n",
       "      <td>Tauranga</td>\n",
       "      <td>Oceania Championships</td>\n",
       "    </tr>\n",
       "    <tr>\n",
       "      <th>4</th>\n",
       "      <td>Julie Hallmond</td>\n",
       "      <td>F</td>\n",
       "      <td>SBD</td>\n",
       "      <td>Single-ply</td>\n",
       "      <td>NaN</td>\n",
       "      <td>NaN</td>\n",
       "      <td>50-59</td>\n",
       "      <td>Masters 2</td>\n",
       "      <td>58.20</td>\n",
       "      <td>60</td>\n",
       "      <td>...</td>\n",
       "      <td>Yes</td>\n",
       "      <td>New Zealand</td>\n",
       "      <td>NaN</td>\n",
       "      <td>OceaniaPF</td>\n",
       "      <td>IPF</td>\n",
       "      <td>2002-12-06</td>\n",
       "      <td>New Zealand</td>\n",
       "      <td>BOP</td>\n",
       "      <td>Tauranga</td>\n",
       "      <td>Oceania Championships</td>\n",
       "    </tr>\n",
       "  </tbody>\n",
       "</table>\n",
       "<p>5 rows × 41 columns</p>\n",
       "</div>"
      ],
      "text/plain": [
       "             Name Sex Event   Equipment   Age AgeClass BirthYearClass  \\\n",
       "0   Karen Thomson   F   SBD  Single-ply  39.5    35-39          40-49   \n",
       "1  Deborah Groves   F   SBD  Single-ply  30.5    24-34          24-39   \n",
       "2     Renee Orbon   F   SBD  Single-ply  31.5    24-34          24-39   \n",
       "3  Rikki Flanders   F   SBD  Single-ply  31.5    24-34          24-39   \n",
       "4  Julie Hallmond   F   SBD  Single-ply   NaN      NaN          50-59   \n",
       "\n",
       "    Division  BodyweightKg WeightClassKg  ...  Tested      Country  State  \\\n",
       "0  Masters 1         51.90            52  ...     Yes  New Zealand    NaN   \n",
       "1       Open         50.64            52  ...     Yes    Australia    NaN   \n",
       "2       Open         55.76            56  ...     Yes  New Zealand    NaN   \n",
       "3       Open         56.42            60  ...     Yes    Australia    NaN   \n",
       "4  Masters 2         58.20            60  ...     Yes  New Zealand    NaN   \n",
       "\n",
       "   Federation  ParentFederation        Date  MeetCountry  MeetState  MeetTown  \\\n",
       "0   OceaniaPF               IPF  2002-12-06  New Zealand        BOP  Tauranga   \n",
       "1   OceaniaPF               IPF  2002-12-06  New Zealand        BOP  Tauranga   \n",
       "2   OceaniaPF               IPF  2002-12-06  New Zealand        BOP  Tauranga   \n",
       "3   OceaniaPF               IPF  2002-12-06  New Zealand        BOP  Tauranga   \n",
       "4   OceaniaPF               IPF  2002-12-06  New Zealand        BOP  Tauranga   \n",
       "\n",
       "                MeetName  \n",
       "0  Oceania Championships  \n",
       "1  Oceania Championships  \n",
       "2  Oceania Championships  \n",
       "3  Oceania Championships  \n",
       "4  Oceania Championships  \n",
       "\n",
       "[5 rows x 41 columns]"
      ]
     },
     "execution_count": 328,
     "metadata": {},
     "output_type": "execute_result"
    }
   ],
   "source": [
    "# have a view of the dataframe\n",
    "df.head()"
   ]
  },
  {
   "cell_type": "code",
   "execution_count": 329,
   "metadata": {},
   "outputs": [],
   "source": [
    "# User parameters\n",
    "\n",
    "# How many athletes do we want to study ?\n",
    "n_athlete = 10\n",
    "\n",
    "# Choose mode \"national\" or \"international\"; national mode is related to the \"country\" value\n",
    "mode = \"national\"\n",
    "\n",
    "# Choose the athlete's sex \"M\" or \"F\"\n",
    "sex = \"M\" \n",
    "\n",
    "# Choose athlete equipment \"Raw\" or \"Single-ply\"\n",
    "equipment = \"Raw\"\n",
    "\n",
    "# Choose athlete event \"SBD\" or \"B\"\n",
    "event = \"SBD\"\n",
    "\n",
    "# Choose athlete country related to national mode\n",
    "country = \"France\"\n",
    "\n",
    "# Store the different federations\n",
    "federation_1 = \"FFForce\"\n",
    "federation_2 = \"IPF\"\n",
    "federation_3 = \"EPF\"\n",
    "forbidden_division = \"Prime Time\"\n",
    "\n",
    "# Choose the limit date of the data\n",
    "end_date = \"2023-01-01\""
   ]
  },
  {
   "cell_type": "code",
   "execution_count": 330,
   "metadata": {},
   "outputs": [],
   "source": [
    "# Creating a dictionary\n",
    "d = {}\n",
    "\n",
    "# Fix parameters\n",
    "if sex == \"F\":\n",
    "    list = ['47', '52', '57', '63', '69', '76', '84', '84+']\n",
    "else:\n",
    "    list = ['59', '66', '74', '83', '93', '105', '120', '120+']\n",
    "\n",
    "\n",
    "for categories in list:\n",
    "    if mode == \"national\" :\n",
    "        d[categories] = pd.DataFrame(\n",
    "            df.loc[\n",
    "            (df['Sex'] == sex)\n",
    "            & \n",
    "            (df['WeightClassKg'] == categories)\n",
    "            & \n",
    "            (df['Equipment'] == equipment)\n",
    "            & \n",
    "            (df['Event'] == event)\n",
    "            &\n",
    "            (\n",
    "                (df['Federation'] == federation_1)\n",
    "                |\n",
    "                (df['Federation'] == federation_2) & (df['Country'] == country)\n",
    "                |\n",
    "                (df['Federation'] == federation_3) & (df['Country'] == country)\n",
    "            )\n",
    "            &\n",
    "            (df['Division'] != forbidden_division)\n",
    "            &\n",
    "            (df['Date'] < end_date)\n",
    "            ]\n",
    "        )\n",
    "    else :\n",
    "        d[categories] = pd.DataFrame(\n",
    "            df.loc[\n",
    "            (df['Sex'] == sex)\n",
    "            & \n",
    "            (df['WeightClassKg'] == categories)\n",
    "            & \n",
    "            (df['Equipment'] == equipment)\n",
    "            & \n",
    "            (df['Event'] == event)\n",
    "            &\n",
    "            (\n",
    "                (df['Federation'] == federation_2)\n",
    "                |\n",
    "                (df['Federation'] == federation_3)\n",
    "            )\n",
    "            &\n",
    "            (df['Division'] != forbidden_division)\n",
    "            &\n",
    "            (df['Date'] < end_date)\n",
    "            ]\n",
    "        )"
   ]
  },
  {
   "cell_type": "code",
   "execution_count": 331,
   "metadata": {},
   "outputs": [],
   "source": [
    "# Group by my table to take the max Goodlift per Athlete Name\n",
    "for categories in list:\n",
    "    d[categories] = pd.DataFrame(d[categories].groupby('Name')['Goodlift'].max().reset_index().sort_values(['Goodlift'], ascending=False))\n",
    "    d[categories] = pd.DataFrame(d[categories].head(n_athlete))"
   ]
  },
  {
   "cell_type": "code",
   "execution_count": 332,
   "metadata": {},
   "outputs": [],
   "source": [
    "# Store my result in an excel file\n",
    "with pd.ExcelWriter(r\"C:\\Users\\rbenoist\\Desktop\\Python-main\\Code\\Analyse IPF python\\IPF\\IPF-analysis\\results.xlsx\") as writer:\n",
    "   \n",
    "    # use to_excel function and specify the sheet_name and index\n",
    "    # to store the dataframe in specified sheet\n",
    "    for categories in list:\n",
    "        d[categories].to_excel(writer, header=categories, sheet_name=categories)"
   ]
  },
  {
   "cell_type": "code",
   "execution_count": 333,
   "metadata": {},
   "outputs": [
    {
     "data": {
      "text/plain": [
       "([<matplotlib.axis.XTick at 0x29d3b24e400>,\n",
       "  <matplotlib.axis.XTick at 0x29d3b16d070>,\n",
       "  <matplotlib.axis.XTick at 0x29d3b549f70>,\n",
       "  <matplotlib.axis.XTick at 0x29d3b208520>,\n",
       "  <matplotlib.axis.XTick at 0x29d3b208c70>,\n",
       "  <matplotlib.axis.XTick at 0x29d3b211400>,\n",
       "  <matplotlib.axis.XTick at 0x29d3b208c40>,\n",
       "  <matplotlib.axis.XTick at 0x29d3b211a30>],\n",
       " [Text(1, 0, '59'),\n",
       "  Text(2, 0, '66'),\n",
       "  Text(3, 0, '74'),\n",
       "  Text(4, 0, '83'),\n",
       "  Text(5, 0, '93'),\n",
       "  Text(6, 0, '105'),\n",
       "  Text(7, 0, '120'),\n",
       "  Text(8, 0, '120+')])"
      ]
     },
     "execution_count": 333,
     "metadata": {},
     "output_type": "execute_result"
    },
    {
     "data": {
      "image/png": "[encoded data removed]",
      "text/plain": [
       "<Figure size 432x288 with 1 Axes>"
      ]
     },
     "metadata": {
      "needs_background": "light"
     },
     "output_type": "display_data"
    }
   ],
   "source": [
    "# Name my categories depending on \"Sex\" value\n",
    "if sex == \"F\" :\n",
    "    bars = ('47', '52', '57', '63', '69', '76', '84', '84+')\n",
    "else :\n",
    "    bars = ('59', '66', '74', '83', '93', '105', '120', '120+')\n",
    "\n",
    "plt.rcParams['ytick.right'] = plt.rcParams['ytick.labelright'] = False\n",
    "plt.rcParams['ytick.left'] = plt.rcParams['ytick.labelleft'] = True\n",
    "\n",
    "\n",
    "plot = []\n",
    "for categories in list:\n",
    "    plot.append(d[categories]['Goodlift'])\n",
    "\n",
    "plt.boxplot(plot)\n",
    "\n",
    "\n",
    "# Name my labels\n",
    "plt.ylabel('GL points')\n",
    "plt.xlabel('Catégories')\n",
    "\n",
    "# Adjust y axis\n",
    "# plt.ylim([90, 140])\n",
    "\n",
    "# Name my xticks according to my \"bars\" value\n",
    "plt.xticks([1, 2, 3, 4, 5 , 6, 7 , 8], bars)"
   ]
  },
  {
   "cell_type": "code",
   "execution_count": 334,
   "metadata": {},
   "outputs": [
    {
     "data": {
      "text/plain": [
       "[<matplotlib.lines.Line2D at 0x29d3b1d0850>]"
      ]
     },
     "execution_count": 334,
     "metadata": {},
     "output_type": "execute_result"
    },
    {
     "data": {
      "image/png": "[encoded data removed]",
      "text/plain": [
       "<Figure size 432x288 with 1 Axes>"
      ]
     },
     "metadata": {
      "needs_background": "light"
     },
     "output_type": "display_data"
    }
   ],
   "source": [
    "# Display number of athletes per categories\n",
    "n_cate = np.array([46, 139, 230, 278, 145, 109, 52, 28])\n",
    "\n",
    "plt.rcParams['ytick.right'] = plt.rcParams['ytick.labelright'] = True\n",
    "plt.rcParams['ytick.left'] = plt.rcParams['ytick.labelleft'] = False\n",
    "\n",
    "plt.ylim([0, 750])\n",
    "plt.ylabel(\"Nombre d'athlètes\")\n",
    "t = plt.ylabel(\"Nombre d'athlètes\");\n",
    "plt.plot(bars, n_cate, color = 'blue')"
   ]
  },
  {
   "cell_type": "code",
   "execution_count": 335,
   "metadata": {},
   "outputs": [
    {
     "data": {
      "text/plain": [
       "([<matplotlib.axis.XTick at 0x29d887f3ac0>,\n",
       "  <matplotlib.axis.XTick at 0x29d887f32b0>,\n",
       "  <matplotlib.axis.XTick at 0x29d3b26b100>,\n",
       "  <matplotlib.axis.XTick at 0x29d888c70a0>,\n",
       "  <matplotlib.axis.XTick at 0x29d888c7730>,\n",
       "  <matplotlib.axis.XTick at 0x29d888c7e80>,\n",
       "  <matplotlib.axis.XTick at 0x29d888cc610>,\n",
       "  <matplotlib.axis.XTick at 0x29d888c7a00>],\n",
       " [Text(1, 0, '59'),\n",
       "  Text(2, 0, '66'),\n",
       "  Text(3, 0, '74'),\n",
       "  Text(4, 0, '83'),\n",
       "  Text(5, 0, '93'),\n",
       "  Text(6, 0, '105'),\n",
       "  Text(7, 0, '120'),\n",
       "  Text(8, 0, '120+')])"
      ]
     },
     "execution_count": 335,
     "metadata": {},
     "output_type": "execute_result"
    },
    {
     "data": {
      "image/png": "[encoded data removed]",
      "text/plain": [
       "<Figure size 432x288 with 2 Axes>"
      ]
     },
     "metadata": {
      "needs_background": "light"
     },
     "output_type": "display_data"
    }
   ],
   "source": [
    "# Display 2 boxplots on same graph\n",
    "plt.boxplot(\n",
    "    plot, \n",
    "    boxprops= dict(linestyle='--',linewidth=0.25, color='black'),\n",
    "    whiskerprops=dict(linestyle='--',linewidth=0.25, color='black'),\n",
    "    medianprops = dict(linestyle='--', linewidth=0.25, color='black'),\n",
    "    capprops = dict(linestyle='--', linewidth=0.25, color='black'),\n",
    "    flierprops = dict(linestyle='--', linewidth=0.25, color='black')\n",
    ")\n",
    "plt.ylim([60, 130])\n",
    "plt.ylabel('GL points')\n",
    "plt.xlabel('Catégories')\n",
    "plt.xticks([1, 2, 3, 4, 5 , 6, 7 , 8], bars)\n",
    "\n",
    "\n",
    "# both boxplot\n",
    "plt.twinx()\n",
    "a = np.arange(105, 117.5, 1).tolist()\n",
    "b = np.arange(107.5, 120, 1).tolist()\n",
    "c = np.arange(110, 122.5, 1).tolist()\n",
    "d = np.arange(112.5, 125, 1).tolist()\n",
    "e = np.arange(107.5, 120, 1).tolist()\n",
    "f = np.arange(105, 117.5, 1).tolist()\n",
    "g = np.arange(102.5, 115, 1).tolist()\n",
    "h = np.arange(100, 112.5, 1).tolist()\n",
    "plt.boxplot(\n",
    "    [\n",
    "    a,\n",
    "    b,\n",
    "    c,\n",
    "    d,\n",
    "    e,\n",
    "    f,\n",
    "    g,\n",
    "    h\n",
    "    ], widths = 0.5\n",
    ")\n",
    "plt.ylim([60, 130])\n",
    "plt.ylabel('GL points')\n",
    "plt.xlabel('Catégories')\n",
    "plt.xticks([1, 2, 3, 4, 5 , 6, 7 , 8], bars)"
   ]
  },
  {
   "cell_type": "code",
   "execution_count": 336,
   "metadata": {},
   "outputs": [
    {
     "data": {
      "text/plain": [
       "{'whiskers': [<matplotlib.lines.Line2D at 0x29d8895b5e0>,\n",
       "  <matplotlib.lines.Line2D at 0x29d8895b970>],\n",
       " 'caps': [<matplotlib.lines.Line2D at 0x29d8895bd00>,\n",
       "  <matplotlib.lines.Line2D at 0x29d889670d0>],\n",
       " 'boxes': [<matplotlib.lines.Line2D at 0x29d8895b370>],\n",
       " 'medians': [<matplotlib.lines.Line2D at 0x29d88967460>],\n",
       " 'fliers': [<matplotlib.lines.Line2D at 0x29d889677f0>],\n",
       " 'means': []}"
      ]
     },
     "execution_count": 336,
     "metadata": {},
     "output_type": "execute_result"
    },
    {
     "data": {
      "image/png": "[encoded data removed]",
      "text/plain": [
       "<Figure size 432x288 with 1 Axes>"
      ]
     },
     "metadata": {
      "needs_background": "light"
     },
     "output_type": "display_data"
    }
   ],
   "source": [
    "# display a typical boxplot in order to describe it on my presentation\n",
    "\n",
    "plt.boxplot([1,2,3,7,9,12,23])"
   ]
  }
 ],
 "metadata": {
  "interpreter": {
   "hash": "db4ffebe68400303c6659ef5fad7c59c09752d22b0aae99cd8313777141e481c"
  },
  "kernelspec": {
   "display_name": "Python 3.8.8 ('base')",
   "language": "python",
   "name": "python3"
  },
  "language_info": {
   "codemirror_mode": {
    "name": "ipython",
    "version": 3
   },
   "file_extension": ".py",
   "mimetype": "text/x-python",
   "name": "python",
   "nbconvert_exporter": "python",
   "pygments_lexer": "ipython3",
   "version": "3.8.8"
  },
  "orig_nbformat": 4
 },
 "nbformat": 4,
 "nbformat_minor": 2
}
